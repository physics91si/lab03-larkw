{
 "cells": [
  {
   "cell_type": "markdown",
   "metadata": {},
   "source": [
    "# Physics 91SI: Lab 3\n",
    "\n",
    "Part 1\n",
    "------"
   ]
  },
  {
   "cell_type": "code",
   "execution_count": 5,
   "metadata": {},
   "outputs": [],
   "source": [
    "# Don't edit this function\n",
    "def load_sample():\n",
    "    \"\"\"Return the entire text of Hamlet in a string.\"\"\"\n",
    "    with open('hamlet.txt') as f:\n",
    "        sample = f.read()\n",
    "    return sample"
   ]
  },
  {
   "cell_type": "code",
   "execution_count": 26,
   "metadata": {},
   "outputs": [],
   "source": [
    "# Edit this function. \"pass\" tells Python to do nothing.\n",
    "\n",
    "# Must pass file as a string\n",
    "import string\n",
    "import re\n",
    "def parse_sample(file, words_only=False, sort_list=False):\n",
    "    with open(file) as f:\n",
    "        text = f.read()\n",
    "    wordlist = []\n",
    "    text = text.replace(\"-\",\"\")\n",
    "    if words_only == True:\n",
    "        text = text.lower()\n",
    "        text = text.replace(\".\",\"\")\n",
    "        text = text.replace(\",\",\"\")\n",
    "        text = text.replace(\":\",\"\")\n",
    "        text = text.replace(\"\\\"\",\"\")\n",
    "        text = text.replace(\"\\'\",\"\")\n",
    "        text = text.replace(\"?\",\"\")\n",
    "        text = text.replace(\"/\",\"\")\n",
    "        text = text.replace(\"!\",\"\")\n",
    "    wordlist += text.split(\" \")\n",
    "    if sort_list == True:\n",
    "        wordlist.sort()\n",
    "    return wordlist\n",
    "        \n",
    "    \n",
    "    "
   ]
  },
  {
   "cell_type": "code",
   "execution_count": 25,
   "metadata": {},
   "outputs": [],
   "source": [
    "list = parse_sample('hamlet.txt',True, True)"
   ]
  },
  {
   "cell_type": "markdown",
   "metadata": {},
   "source": [
    "Part 2\n",
    "------"
   ]
  },
  {
   "cell_type": "code",
   "execution_count": 85,
   "metadata": {},
   "outputs": [],
   "source": [
    "import collections\n",
    "import numpy \n",
    "def count_freq(first):\n",
    "    freq_dict = collections.Counter(first)\n",
    "    return freq_dict\n",
    "    \"\"\"Return a dict of word frequencies given a list of words.\n",
    "    \n",
    "    Arguments:\n",
    "    -- lst: a list of strings\n",
    "    \n",
    "    Returns:\n",
    "    -- freq_dict: a dictionary of word: frequency pairs. The keys are strings\n",
    "       containing the words, and the values are integers indicating how many\n",
    "       times each word appears.\n",
    "    \n",
    "    Example:\n",
    "    >>> count_freq(['time', 'after', 'time'])\n",
    "    {'time': 2, 'after': 1}\n",
    "    \"\"\"\n",
    "\n",
    "def mean(first):\n",
    "    mean_dict = count_freq(first)\n",
    "    num_list = [n for n in mean_dict.values()]\n",
    "    mean = numpy.mean(num_list)\n",
    "    return mean\n",
    "\n",
    "def stdev(first):\n",
    "    \"\"\"Return the standard deviation of a list of numbers.\"\"\"\n",
    "    mean_dict = count_freq(first)\n",
    "    num_list = [n for n in mean_dict.values()]\n",
    "    return numpy.std(num_list)\n",
    "\n",
    "def median(first):\n",
    "    \"\"\"Return the median of a list of numbers.\"\"\"\n",
    "    mean_dict = count_freq(first)\n",
    "    num_list = [n for n in mean_dict.values()]\n",
    "    return numpy.median(num_list)"
   ]
  },
  {
   "cell_type": "code",
   "execution_count": 86,
   "metadata": {},
   "outputs": [
    {
     "data": {
      "text/plain": [
       "1.0"
      ]
     },
     "execution_count": 86,
     "metadata": {},
     "output_type": "execute_result"
    }
   ],
   "source": [
    "median(list)"
   ]
  },
  {
   "cell_type": "markdown",
   "metadata": {},
   "source": [
    "Part 3\n",
    "------"
   ]
  },
  {
   "cell_type": "code",
   "execution_count": 96,
   "metadata": {},
   "outputs": [],
   "source": [
    "def print_stats(first):\n",
    "    \"\"\"Print common statistics about the word frequencies of a list of words.\"\"\"\n",
    "    print (\"This is the mean: \", mean(first), \". This is the standard deviation: \", \n",
    "           stdev(first), \". This is the median: \", median(first),\".\", sep=\"\")\n",
    "    return 0"
   ]
  },
  {
   "cell_type": "code",
   "execution_count": 97,
   "metadata": {},
   "outputs": [
    {
     "name": "stdout",
     "output_type": "stream",
     "text": [
      "This is the mean: 3.2334791059280854. This is the standard deviation: 21.97559510056785. This is the median: 1.0.\n"
     ]
    },
    {
     "data": {
      "text/plain": [
       "0"
      ]
     },
     "execution_count": 97,
     "metadata": {},
     "output_type": "execute_result"
    }
   ],
   "source": [
    "print_stats(list)"
   ]
  },
  {
   "cell_type": "code",
   "execution_count": null,
   "metadata": {},
   "outputs": [],
   "source": []
  }
 ],
 "metadata": {
  "kernelspec": {
   "display_name": "Python 3",
   "language": "python",
   "name": "python3"
  },
  "language_info": {
   "codemirror_mode": {
    "name": "ipython",
    "version": 3
   },
   "file_extension": ".py",
   "mimetype": "text/x-python",
   "name": "python",
   "nbconvert_exporter": "python",
   "pygments_lexer": "ipython3",
   "version": "3.6.4"
  }
 },
 "nbformat": 4,
 "nbformat_minor": 1
}
